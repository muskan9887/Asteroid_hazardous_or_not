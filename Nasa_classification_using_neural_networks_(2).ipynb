{
  "cells": [
    {
      "cell_type": "markdown",
      "metadata": {
        "id": "view-in-github",
        "colab_type": "text"
      },
      "source": [
        "<a href=\"https://colab.research.google.com/github/muskan9887/Asteroid_hazardous_or_not/blob/main/Nasa_classification_using_neural_networks_(2).ipynb\" target=\"_parent\"><img src=\"https://colab.research.google.com/assets/colab-badge.svg\" alt=\"Open In Colab\"/></a>"
      ]
    },
    {
      "cell_type": "code",
      "execution_count": 2,
      "id": "b904b368",
      "metadata": {
        "id": "b904b368"
      },
      "outputs": [],
      "source": [
        "import numpy as np\n",
        "import pandas as pd\n",
        "import matplotlib.pyplot as plt\n",
        "import seaborn as sns"
      ]
    },
    {
      "cell_type": "code",
      "execution_count": 7,
      "id": "7270b8a7",
      "metadata": {
        "id": "7270b8a7"
      },
      "outputs": [],
      "source": [
        "nasa_data=pd.read_csv(\"/content/nasa.csv\")"
      ]
    },
    {
      "cell_type": "code",
      "execution_count": 4,
      "id": "a32d25ad",
      "metadata": {
        "id": "a32d25ad"
      },
      "outputs": [],
      "source": [
        "nasa_data1 = nasa_data.drop(columns=['Hazardous','Name','Neo Reference ID','Orbit Determination Date','Close Approach Date','Orbiting Body','Equinox',\"Est Dia in M(min)\",\"Est Dia in M(max)\",\"Est Dia in Miles(min)\",\"Est Dia in Miles(max)\",\"Est Dia in Feet(min)\",\"Est Dia in Feet(max)\",\"Relative Velocity km per hr\",\"Miles per hour\",\"Miss Dist.(lunar)\",\"Miss Dist.(kilometers)\",\"Miss Dist.(miles)\",\"Est Dia in KM(max)\"])"
      ]
    },
    {
      "cell_type": "code",
      "execution_count": 5,
      "id": "72f9d0d2",
      "metadata": {
        "colab": {
          "base_uri": "https://localhost:8080/"
        },
        "id": "72f9d0d2",
        "outputId": "55942109-d8de-4fec-895d-010ae61a97c5"
      },
      "outputs": [
        {
          "output_type": "stream",
          "name": "stdout",
          "text": [
            "Index(['Absolute Magnitude', 'Est Dia in KM(min)', 'Epoch Date Close Approach',\n",
            "       'Relative Velocity km per sec', 'Miss Dist.(Astronomical)', 'Orbit ID',\n",
            "       'Orbit Uncertainity', 'Minimum Orbit Intersection',\n",
            "       'Jupiter Tisserand Invariant', 'Epoch Osculation', 'Eccentricity',\n",
            "       'Semi Major Axis', 'Inclination', 'Asc Node Longitude',\n",
            "       'Orbital Period', 'Perihelion Distance', 'Perihelion Arg',\n",
            "       'Aphelion Dist', 'Perihelion Time', 'Mean Anomaly', 'Mean Motion'],\n",
            "      dtype='object')\n"
          ]
        }
      ],
      "source": [
        "print(nasa_data1.columns)"
      ]
    },
    {
      "cell_type": "code",
      "execution_count": 6,
      "id": "81733181",
      "metadata": {
        "id": "81733181"
      },
      "outputs": [],
      "source": [
        "nasa_data1['focal_distance'] = nasa_data1['Eccentricity'] * nasa_data1['Semi Major Axis']"
      ]
    },
    {
      "cell_type": "code",
      "execution_count": 8,
      "id": "fc884382",
      "metadata": {
        "colab": {
          "base_uri": "https://localhost:8080/"
        },
        "id": "fc884382",
        "outputId": "ba5298fa-ce68-4bb8-9f34-80510b84a1dc"
      },
      "outputs": [
        {
          "output_type": "stream",
          "name": "stdout",
          "text": [
            "Index(['Absolute Magnitude', 'Est Dia in KM(min)', 'Epoch Date Close Approach',\n",
            "       'Relative Velocity km per sec', 'Miss Dist.(Astronomical)', 'Orbit ID',\n",
            "       'Orbit Uncertainity', 'Minimum Orbit Intersection',\n",
            "       'Jupiter Tisserand Invariant', 'Epoch Osculation', 'Eccentricity',\n",
            "       'Semi Major Axis', 'Inclination', 'Asc Node Longitude',\n",
            "       'Orbital Period', 'Perihelion Distance', 'Perihelion Arg',\n",
            "       'Aphelion Dist', 'Perihelion Time', 'Mean Anomaly', 'Mean Motion',\n",
            "       'focal_distance'],\n",
            "      dtype='object')\n"
          ]
        }
      ],
      "source": [
        "print(nasa_data1.columns)"
      ]
    },
    {
      "cell_type": "code",
      "execution_count": 9,
      "id": "6e832b60",
      "metadata": {
        "id": "6e832b60"
      },
      "outputs": [],
      "source": [
        "def classify_asteroid(row):\n",
        "\n",
        "    if (row['Semi Major Axis'] * (1 + row['Eccentricity'])) >= 0.983 and row['Semi Major Axis'] < 1:\n",
        "        return 'Aten'\n",
        "    elif row['Semi Major Axis'] >= 1 and (row['Semi Major Axis'] * (1 - row['Eccentricity'])) <= 1.017:\n",
        "        return 'Apollo'\n",
        "    elif 1.017 < row['Semi Major Axis'] * (1 - row['Eccentricity']) < 1.3:\n",
        "        return 'Amor'\n",
        "    elif (row['Semi Major Axis'] * (1 + row['Eccentricity'])) < 0.983:\n",
        "        return 'Apopeles'\n",
        "    else:\n",
        "        return 'Other'"
      ]
    },
    {
      "cell_type": "code",
      "execution_count": 10,
      "id": "c422a7ce",
      "metadata": {
        "id": "c422a7ce"
      },
      "outputs": [],
      "source": [
        "nasa_data1['Asteroid Type'] = nasa_data1.apply(classify_asteroid, axis=1)"
      ]
    },
    {
      "cell_type": "code",
      "execution_count": 11,
      "id": "f329c8e3",
      "metadata": {
        "colab": {
          "base_uri": "https://localhost:8080/",
          "height": 307
        },
        "id": "f329c8e3",
        "outputId": "a95dfd96-ad11-4cef-e45d-0b37d11ef9b6"
      },
      "outputs": [
        {
          "output_type": "execute_result",
          "data": {
            "text/plain": [
              "   Absolute Magnitude  Est Dia in KM(min)  Epoch Date Close Approach  \\\n",
              "0                21.6            0.127220               7.890000e+11   \n",
              "1                21.3            0.146068               7.890000e+11   \n",
              "2                20.3            0.231502               7.900000e+11   \n",
              "3                27.4            0.008801               7.900000e+11   \n",
              "4                21.6            0.127220               7.900000e+11   \n",
              "\n",
              "   Relative Velocity km per sec  Miss Dist.(Astronomical)  Orbit ID  \\\n",
              "0                      6.115834                  0.419483        17   \n",
              "1                     18.113985                  0.383014        21   \n",
              "2                      7.590711                  0.050956        22   \n",
              "3                     11.173875                  0.285322         7   \n",
              "4                      9.840831                  0.407832        25   \n",
              "\n",
              "   Orbit Uncertainity  Minimum Orbit Intersection  \\\n",
              "0                   5                    0.025282   \n",
              "1                   3                    0.186935   \n",
              "2                   0                    0.043058   \n",
              "3                   6                    0.005512   \n",
              "4                   1                    0.034798   \n",
              "\n",
              "   Jupiter Tisserand Invariant  Epoch Osculation  ...  Asc Node Longitude  \\\n",
              "0                        4.634         2458000.5  ...          314.373913   \n",
              "1                        5.457         2458000.5  ...          136.717242   \n",
              "2                        4.557         2458000.5  ...          259.475979   \n",
              "3                        5.093         2458000.5  ...           57.173266   \n",
              "4                        5.154         2458000.5  ...           84.629307   \n",
              "\n",
              "   Orbital Period  Perihelion Distance  Perihelion Arg  Aphelion Dist  \\\n",
              "0      609.599786             0.808259       57.257470       2.005764   \n",
              "1      425.869294             0.718200      313.091975       1.497352   \n",
              "2      643.580228             0.950791      248.415038       1.966857   \n",
              "3      514.082140             0.983902       18.707701       1.527904   \n",
              "4      495.597821             0.967687      158.263596       1.483543   \n",
              "\n",
              "   Perihelion Time  Mean Anomaly  Mean Motion  focal_distance  Asteroid Type  \n",
              "0      2458161.642    264.837533     0.590551        0.598752         Apollo  \n",
              "1      2457794.969    173.741112     0.845330        0.389576         Apollo  \n",
              "2      2458120.468    292.893654     0.559371        0.508033         Apollo  \n",
              "3      2457902.337     68.741007     0.700277        0.272001         Apollo  \n",
              "4      2457814.455    135.142133     0.726395        0.257928         Apollo  \n",
              "\n",
              "[5 rows x 23 columns]"
            ],
            "text/html": [
              "\n",
              "  <div id=\"df-66037747-96ac-4d39-a7bf-8f02fe386a0d\" class=\"colab-df-container\">\n",
              "    <div>\n",
              "<style scoped>\n",
              "    .dataframe tbody tr th:only-of-type {\n",
              "        vertical-align: middle;\n",
              "    }\n",
              "\n",
              "    .dataframe tbody tr th {\n",
              "        vertical-align: top;\n",
              "    }\n",
              "\n",
              "    .dataframe thead th {\n",
              "        text-align: right;\n",
              "    }\n",
              "</style>\n",
              "<table border=\"1\" class=\"dataframe\">\n",
              "  <thead>\n",
              "    <tr style=\"text-align: right;\">\n",
              "      <th></th>\n",
              "      <th>Absolute Magnitude</th>\n",
              "      <th>Est Dia in KM(min)</th>\n",
              "      <th>Epoch Date Close Approach</th>\n",
              "      <th>Relative Velocity km per sec</th>\n",
              "      <th>Miss Dist.(Astronomical)</th>\n",
              "      <th>Orbit ID</th>\n",
              "      <th>Orbit Uncertainity</th>\n",
              "      <th>Minimum Orbit Intersection</th>\n",
              "      <th>Jupiter Tisserand Invariant</th>\n",
              "      <th>Epoch Osculation</th>\n",
              "      <th>...</th>\n",
              "      <th>Asc Node Longitude</th>\n",
              "      <th>Orbital Period</th>\n",
              "      <th>Perihelion Distance</th>\n",
              "      <th>Perihelion Arg</th>\n",
              "      <th>Aphelion Dist</th>\n",
              "      <th>Perihelion Time</th>\n",
              "      <th>Mean Anomaly</th>\n",
              "      <th>Mean Motion</th>\n",
              "      <th>focal_distance</th>\n",
              "      <th>Asteroid Type</th>\n",
              "    </tr>\n",
              "  </thead>\n",
              "  <tbody>\n",
              "    <tr>\n",
              "      <th>0</th>\n",
              "      <td>21.6</td>\n",
              "      <td>0.127220</td>\n",
              "      <td>7.890000e+11</td>\n",
              "      <td>6.115834</td>\n",
              "      <td>0.419483</td>\n",
              "      <td>17</td>\n",
              "      <td>5</td>\n",
              "      <td>0.025282</td>\n",
              "      <td>4.634</td>\n",
              "      <td>2458000.5</td>\n",
              "      <td>...</td>\n",
              "      <td>314.373913</td>\n",
              "      <td>609.599786</td>\n",
              "      <td>0.808259</td>\n",
              "      <td>57.257470</td>\n",
              "      <td>2.005764</td>\n",
              "      <td>2458161.642</td>\n",
              "      <td>264.837533</td>\n",
              "      <td>0.590551</td>\n",
              "      <td>0.598752</td>\n",
              "      <td>Apollo</td>\n",
              "    </tr>\n",
              "    <tr>\n",
              "      <th>1</th>\n",
              "      <td>21.3</td>\n",
              "      <td>0.146068</td>\n",
              "      <td>7.890000e+11</td>\n",
              "      <td>18.113985</td>\n",
              "      <td>0.383014</td>\n",
              "      <td>21</td>\n",
              "      <td>3</td>\n",
              "      <td>0.186935</td>\n",
              "      <td>5.457</td>\n",
              "      <td>2458000.5</td>\n",
              "      <td>...</td>\n",
              "      <td>136.717242</td>\n",
              "      <td>425.869294</td>\n",
              "      <td>0.718200</td>\n",
              "      <td>313.091975</td>\n",
              "      <td>1.497352</td>\n",
              "      <td>2457794.969</td>\n",
              "      <td>173.741112</td>\n",
              "      <td>0.845330</td>\n",
              "      <td>0.389576</td>\n",
              "      <td>Apollo</td>\n",
              "    </tr>\n",
              "    <tr>\n",
              "      <th>2</th>\n",
              "      <td>20.3</td>\n",
              "      <td>0.231502</td>\n",
              "      <td>7.900000e+11</td>\n",
              "      <td>7.590711</td>\n",
              "      <td>0.050956</td>\n",
              "      <td>22</td>\n",
              "      <td>0</td>\n",
              "      <td>0.043058</td>\n",
              "      <td>4.557</td>\n",
              "      <td>2458000.5</td>\n",
              "      <td>...</td>\n",
              "      <td>259.475979</td>\n",
              "      <td>643.580228</td>\n",
              "      <td>0.950791</td>\n",
              "      <td>248.415038</td>\n",
              "      <td>1.966857</td>\n",
              "      <td>2458120.468</td>\n",
              "      <td>292.893654</td>\n",
              "      <td>0.559371</td>\n",
              "      <td>0.508033</td>\n",
              "      <td>Apollo</td>\n",
              "    </tr>\n",
              "    <tr>\n",
              "      <th>3</th>\n",
              "      <td>27.4</td>\n",
              "      <td>0.008801</td>\n",
              "      <td>7.900000e+11</td>\n",
              "      <td>11.173875</td>\n",
              "      <td>0.285322</td>\n",
              "      <td>7</td>\n",
              "      <td>6</td>\n",
              "      <td>0.005512</td>\n",
              "      <td>5.093</td>\n",
              "      <td>2458000.5</td>\n",
              "      <td>...</td>\n",
              "      <td>57.173266</td>\n",
              "      <td>514.082140</td>\n",
              "      <td>0.983902</td>\n",
              "      <td>18.707701</td>\n",
              "      <td>1.527904</td>\n",
              "      <td>2457902.337</td>\n",
              "      <td>68.741007</td>\n",
              "      <td>0.700277</td>\n",
              "      <td>0.272001</td>\n",
              "      <td>Apollo</td>\n",
              "    </tr>\n",
              "    <tr>\n",
              "      <th>4</th>\n",
              "      <td>21.6</td>\n",
              "      <td>0.127220</td>\n",
              "      <td>7.900000e+11</td>\n",
              "      <td>9.840831</td>\n",
              "      <td>0.407832</td>\n",
              "      <td>25</td>\n",
              "      <td>1</td>\n",
              "      <td>0.034798</td>\n",
              "      <td>5.154</td>\n",
              "      <td>2458000.5</td>\n",
              "      <td>...</td>\n",
              "      <td>84.629307</td>\n",
              "      <td>495.597821</td>\n",
              "      <td>0.967687</td>\n",
              "      <td>158.263596</td>\n",
              "      <td>1.483543</td>\n",
              "      <td>2457814.455</td>\n",
              "      <td>135.142133</td>\n",
              "      <td>0.726395</td>\n",
              "      <td>0.257928</td>\n",
              "      <td>Apollo</td>\n",
              "    </tr>\n",
              "  </tbody>\n",
              "</table>\n",
              "<p>5 rows × 23 columns</p>\n",
              "</div>\n",
              "    <div class=\"colab-df-buttons\">\n",
              "\n",
              "  <div class=\"colab-df-container\">\n",
              "    <button class=\"colab-df-convert\" onclick=\"convertToInteractive('df-66037747-96ac-4d39-a7bf-8f02fe386a0d')\"\n",
              "            title=\"Convert this dataframe to an interactive table.\"\n",
              "            style=\"display:none;\">\n",
              "\n",
              "  <svg xmlns=\"http://www.w3.org/2000/svg\" height=\"24px\" viewBox=\"0 -960 960 960\">\n",
              "    <path d=\"M120-120v-720h720v720H120Zm60-500h600v-160H180v160Zm220 220h160v-160H400v160Zm0 220h160v-160H400v160ZM180-400h160v-160H180v160Zm440 0h160v-160H620v160ZM180-180h160v-160H180v160Zm440 0h160v-160H620v160Z\"/>\n",
              "  </svg>\n",
              "    </button>\n",
              "\n",
              "  <style>\n",
              "    .colab-df-container {\n",
              "      display:flex;\n",
              "      gap: 12px;\n",
              "    }\n",
              "\n",
              "    .colab-df-convert {\n",
              "      background-color: #E8F0FE;\n",
              "      border: none;\n",
              "      border-radius: 50%;\n",
              "      cursor: pointer;\n",
              "      display: none;\n",
              "      fill: #1967D2;\n",
              "      height: 32px;\n",
              "      padding: 0 0 0 0;\n",
              "      width: 32px;\n",
              "    }\n",
              "\n",
              "    .colab-df-convert:hover {\n",
              "      background-color: #E2EBFA;\n",
              "      box-shadow: 0px 1px 2px rgba(60, 64, 67, 0.3), 0px 1px 3px 1px rgba(60, 64, 67, 0.15);\n",
              "      fill: #174EA6;\n",
              "    }\n",
              "\n",
              "    .colab-df-buttons div {\n",
              "      margin-bottom: 4px;\n",
              "    }\n",
              "\n",
              "    [theme=dark] .colab-df-convert {\n",
              "      background-color: #3B4455;\n",
              "      fill: #D2E3FC;\n",
              "    }\n",
              "\n",
              "    [theme=dark] .colab-df-convert:hover {\n",
              "      background-color: #434B5C;\n",
              "      box-shadow: 0px 1px 3px 1px rgba(0, 0, 0, 0.15);\n",
              "      filter: drop-shadow(0px 1px 2px rgba(0, 0, 0, 0.3));\n",
              "      fill: #FFFFFF;\n",
              "    }\n",
              "  </style>\n",
              "\n",
              "    <script>\n",
              "      const buttonEl =\n",
              "        document.querySelector('#df-66037747-96ac-4d39-a7bf-8f02fe386a0d button.colab-df-convert');\n",
              "      buttonEl.style.display =\n",
              "        google.colab.kernel.accessAllowed ? 'block' : 'none';\n",
              "\n",
              "      async function convertToInteractive(key) {\n",
              "        const element = document.querySelector('#df-66037747-96ac-4d39-a7bf-8f02fe386a0d');\n",
              "        const dataTable =\n",
              "          await google.colab.kernel.invokeFunction('convertToInteractive',\n",
              "                                                    [key], {});\n",
              "        if (!dataTable) return;\n",
              "\n",
              "        const docLinkHtml = 'Like what you see? Visit the ' +\n",
              "          '<a target=\"_blank\" href=https://colab.research.google.com/notebooks/data_table.ipynb>data table notebook</a>'\n",
              "          + ' to learn more about interactive tables.';\n",
              "        element.innerHTML = '';\n",
              "        dataTable['output_type'] = 'display_data';\n",
              "        await google.colab.output.renderOutput(dataTable, element);\n",
              "        const docLink = document.createElement('div');\n",
              "        docLink.innerHTML = docLinkHtml;\n",
              "        element.appendChild(docLink);\n",
              "      }\n",
              "    </script>\n",
              "  </div>\n",
              "\n",
              "\n",
              "<div id=\"df-4a158004-3af1-4957-a519-f6599abedca9\">\n",
              "  <button class=\"colab-df-quickchart\" onclick=\"quickchart('df-4a158004-3af1-4957-a519-f6599abedca9')\"\n",
              "            title=\"Suggest charts\"\n",
              "            style=\"display:none;\">\n",
              "\n",
              "<svg xmlns=\"http://www.w3.org/2000/svg\" height=\"24px\"viewBox=\"0 0 24 24\"\n",
              "     width=\"24px\">\n",
              "    <g>\n",
              "        <path d=\"M19 3H5c-1.1 0-2 .9-2 2v14c0 1.1.9 2 2 2h14c1.1 0 2-.9 2-2V5c0-1.1-.9-2-2-2zM9 17H7v-7h2v7zm4 0h-2V7h2v10zm4 0h-2v-4h2v4z\"/>\n",
              "    </g>\n",
              "</svg>\n",
              "  </button>\n",
              "\n",
              "<style>\n",
              "  .colab-df-quickchart {\n",
              "      --bg-color: #E8F0FE;\n",
              "      --fill-color: #1967D2;\n",
              "      --hover-bg-color: #E2EBFA;\n",
              "      --hover-fill-color: #174EA6;\n",
              "      --disabled-fill-color: #AAA;\n",
              "      --disabled-bg-color: #DDD;\n",
              "  }\n",
              "\n",
              "  [theme=dark] .colab-df-quickchart {\n",
              "      --bg-color: #3B4455;\n",
              "      --fill-color: #D2E3FC;\n",
              "      --hover-bg-color: #434B5C;\n",
              "      --hover-fill-color: #FFFFFF;\n",
              "      --disabled-bg-color: #3B4455;\n",
              "      --disabled-fill-color: #666;\n",
              "  }\n",
              "\n",
              "  .colab-df-quickchart {\n",
              "    background-color: var(--bg-color);\n",
              "    border: none;\n",
              "    border-radius: 50%;\n",
              "    cursor: pointer;\n",
              "    display: none;\n",
              "    fill: var(--fill-color);\n",
              "    height: 32px;\n",
              "    padding: 0;\n",
              "    width: 32px;\n",
              "  }\n",
              "\n",
              "  .colab-df-quickchart:hover {\n",
              "    background-color: var(--hover-bg-color);\n",
              "    box-shadow: 0 1px 2px rgba(60, 64, 67, 0.3), 0 1px 3px 1px rgba(60, 64, 67, 0.15);\n",
              "    fill: var(--button-hover-fill-color);\n",
              "  }\n",
              "\n",
              "  .colab-df-quickchart-complete:disabled,\n",
              "  .colab-df-quickchart-complete:disabled:hover {\n",
              "    background-color: var(--disabled-bg-color);\n",
              "    fill: var(--disabled-fill-color);\n",
              "    box-shadow: none;\n",
              "  }\n",
              "\n",
              "  .colab-df-spinner {\n",
              "    border: 2px solid var(--fill-color);\n",
              "    border-color: transparent;\n",
              "    border-bottom-color: var(--fill-color);\n",
              "    animation:\n",
              "      spin 1s steps(1) infinite;\n",
              "  }\n",
              "\n",
              "  @keyframes spin {\n",
              "    0% {\n",
              "      border-color: transparent;\n",
              "      border-bottom-color: var(--fill-color);\n",
              "      border-left-color: var(--fill-color);\n",
              "    }\n",
              "    20% {\n",
              "      border-color: transparent;\n",
              "      border-left-color: var(--fill-color);\n",
              "      border-top-color: var(--fill-color);\n",
              "    }\n",
              "    30% {\n",
              "      border-color: transparent;\n",
              "      border-left-color: var(--fill-color);\n",
              "      border-top-color: var(--fill-color);\n",
              "      border-right-color: var(--fill-color);\n",
              "    }\n",
              "    40% {\n",
              "      border-color: transparent;\n",
              "      border-right-color: var(--fill-color);\n",
              "      border-top-color: var(--fill-color);\n",
              "    }\n",
              "    60% {\n",
              "      border-color: transparent;\n",
              "      border-right-color: var(--fill-color);\n",
              "    }\n",
              "    80% {\n",
              "      border-color: transparent;\n",
              "      border-right-color: var(--fill-color);\n",
              "      border-bottom-color: var(--fill-color);\n",
              "    }\n",
              "    90% {\n",
              "      border-color: transparent;\n",
              "      border-bottom-color: var(--fill-color);\n",
              "    }\n",
              "  }\n",
              "</style>\n",
              "\n",
              "  <script>\n",
              "    async function quickchart(key) {\n",
              "      const quickchartButtonEl =\n",
              "        document.querySelector('#' + key + ' button');\n",
              "      quickchartButtonEl.disabled = true;  // To prevent multiple clicks.\n",
              "      quickchartButtonEl.classList.add('colab-df-spinner');\n",
              "      try {\n",
              "        const charts = await google.colab.kernel.invokeFunction(\n",
              "            'suggestCharts', [key], {});\n",
              "      } catch (error) {\n",
              "        console.error('Error during call to suggestCharts:', error);\n",
              "      }\n",
              "      quickchartButtonEl.classList.remove('colab-df-spinner');\n",
              "      quickchartButtonEl.classList.add('colab-df-quickchart-complete');\n",
              "    }\n",
              "    (() => {\n",
              "      let quickchartButtonEl =\n",
              "        document.querySelector('#df-4a158004-3af1-4957-a519-f6599abedca9 button');\n",
              "      quickchartButtonEl.style.display =\n",
              "        google.colab.kernel.accessAllowed ? 'block' : 'none';\n",
              "    })();\n",
              "  </script>\n",
              "</div>\n",
              "\n",
              "    </div>\n",
              "  </div>\n"
            ],
            "application/vnd.google.colaboratory.intrinsic+json": {
              "type": "dataframe",
              "variable_name": "nasa_data1"
            }
          },
          "metadata": {},
          "execution_count": 11
        }
      ],
      "source": [
        "nasa_data1.head()"
      ]
    },
    {
      "cell_type": "code",
      "execution_count": 12,
      "id": "a8347cf7",
      "metadata": {
        "colab": {
          "base_uri": "https://localhost:8080/"
        },
        "id": "a8347cf7",
        "outputId": "620fa311-d870-4981-eba6-348924424b7f"
      },
      "outputs": [
        {
          "output_type": "stream",
          "name": "stdout",
          "text": [
            "      Absolute Magnitude  Est Dia in KM(min)  Epoch Date Close Approach  \\\n",
            "4682              23.900            0.044112               1.470000e+12   \n",
            "4683              28.200            0.006089               1.470000e+12   \n",
            "4684              22.700            0.076658               1.470000e+12   \n",
            "4685              21.800            0.116026               1.470000e+12   \n",
            "4686              19.109            0.400641               1.470000e+12   \n",
            "\n",
            "      Relative Velocity km per sec  Miss Dist.(Astronomical)  Orbit ID  \\\n",
            "4682                     22.154265                  0.041361         4   \n",
            "4683                      3.225150                  0.006469         2   \n",
            "4684                      7.191642                  0.061009        17   \n",
            "4685                     11.352090                  0.260760         6   \n",
            "4686                     35.946852                  0.462372        13   \n",
            "\n",
            "      Orbit Uncertainity  Minimum Orbit Intersection  \\\n",
            "4682                   8                    0.019777   \n",
            "4683                   6                    0.006451   \n",
            "4684                   6                    0.059972   \n",
            "4685                   5                    0.177510   \n",
            "4686                   6                    0.051777   \n",
            "\n",
            "      Jupiter Tisserand Invariant  Epoch Osculation  ...  Asc Node Longitude  \\\n",
            "4682                        5.156         2457637.5  ...          164.183305   \n",
            "4683                        5.742         2458000.5  ...          345.225230   \n",
            "4684                        4.410         2458000.5  ...           37.026468   \n",
            "4685                        4.477         2458000.5  ...          163.802909   \n",
            "4686                        4.108         2458000.5  ...          187.642183   \n",
            "\n",
            "      Orbital Period  Perihelion Distance  Perihelion Arg  Aphelion Dist  \\\n",
            "4682      457.179984             0.741558      276.395697       1.581299   \n",
            "4683      407.185767             0.996434       42.111064       1.153835   \n",
            "4684      690.054279             0.965760      274.692712       2.090708   \n",
            "4685      662.048343             1.185467      180.346090       1.787733   \n",
            "4686      653.679098             0.876110      222.436688       2.071980   \n",
            "\n",
            "      Perihelion Time  Mean Anomaly  Mean Motion  focal_distance  \\\n",
            "4682      2457708.228    304.306024     0.787436        0.419871   \n",
            "4683      2458087.617    282.978786     0.884117        0.078700   \n",
            "4684      2458300.480    203.501147     0.521698        0.562474   \n",
            "4685      2458288.261    203.524965     0.543767        0.301133   \n",
            "4686      2458318.587    184.820424     0.550729        0.597935   \n",
            "\n",
            "      Asteroid Type  \n",
            "4682         Apollo  \n",
            "4683         Apollo  \n",
            "4684         Apollo  \n",
            "4685           Amor  \n",
            "4686         Apollo  \n",
            "\n",
            "[5 rows x 23 columns]\n"
          ]
        }
      ],
      "source": [
        "last_five_rows = nasa_data1.tail(5)\n",
        "\n",
        "# Print the last five rows\n",
        "print(last_five_rows)"
      ]
    },
    {
      "cell_type": "code",
      "execution_count": 13,
      "id": "c611da54",
      "metadata": {
        "colab": {
          "base_uri": "https://localhost:8080/"
        },
        "id": "c611da54",
        "outputId": "4ceb3d64-29e2-46e0-f58e-8daf646d538f"
      },
      "outputs": [
        {
          "output_type": "stream",
          "name": "stdout",
          "text": [
            "Index(['Absolute Magnitude', 'Est Dia in KM(min)', 'Epoch Date Close Approach',\n",
            "       'Relative Velocity km per sec', 'Miss Dist.(Astronomical)', 'Orbit ID',\n",
            "       'Orbit Uncertainity', 'Minimum Orbit Intersection',\n",
            "       'Jupiter Tisserand Invariant', 'Epoch Osculation', 'Eccentricity',\n",
            "       'Semi Major Axis', 'Inclination', 'Asc Node Longitude',\n",
            "       'Orbital Period', 'Perihelion Distance', 'Perihelion Arg',\n",
            "       'Aphelion Dist', 'Perihelion Time', 'Mean Anomaly', 'Mean Motion',\n",
            "       'focal_distance', 'Asteroid Type'],\n",
            "      dtype='object')\n"
          ]
        }
      ],
      "source": [
        "print(nasa_data1.columns)"
      ]
    },
    {
      "cell_type": "code",
      "execution_count": 14,
      "id": "dfe28c86",
      "metadata": {
        "id": "dfe28c86"
      },
      "outputs": [],
      "source": [
        "nasa_data2 = nasa_data1.drop(['Eccentricity',\n",
        "       'Semi Major Axis','Mean Motion','Mean Anomaly','Perihelion Time','Perihelion Arg','Orbital Period','Asc Node Longitude','Inclination','Epoch Osculation','Orbit ID','Orbit Uncertainity', 'Minimum Orbit Intersection','Epoch Date Close Approach'], axis=1)"
      ]
    },
    {
      "cell_type": "code",
      "execution_count": 15,
      "id": "7595ba83",
      "metadata": {
        "colab": {
          "base_uri": "https://localhost:8080/"
        },
        "id": "7595ba83",
        "outputId": "a39b49a6-3fad-4c5a-a73a-525a978a54f7"
      },
      "outputs": [
        {
          "output_type": "stream",
          "name": "stdout",
          "text": [
            "Index(['Absolute Magnitude', 'Est Dia in KM(min)',\n",
            "       'Relative Velocity km per sec', 'Miss Dist.(Astronomical)',\n",
            "       'Jupiter Tisserand Invariant', 'Perihelion Distance', 'Aphelion Dist',\n",
            "       'focal_distance', 'Asteroid Type'],\n",
            "      dtype='object')\n"
          ]
        }
      ],
      "source": [
        "print(nasa_data2.columns)"
      ]
    },
    {
      "cell_type": "code",
      "execution_count": 16,
      "id": "cfea0bb4",
      "metadata": {
        "colab": {
          "base_uri": "https://localhost:8080/"
        },
        "id": "cfea0bb4",
        "outputId": "8b43a73a-0eae-4cae-8078-ec15b2452c0a"
      },
      "outputs": [
        {
          "output_type": "stream",
          "name": "stdout",
          "text": [
            "Epoch [100/1000], Loss: 1.1880, Train Accuracy: 0.5580\n",
            "Epoch [200/1000], Loss: 0.9472, Train Accuracy: 0.8221\n",
            "Epoch [300/1000], Loss: 0.8775, Train Accuracy: 0.8840\n",
            "Epoch [400/1000], Loss: 0.8329, Train Accuracy: 0.9237\n",
            "Epoch [500/1000], Loss: 0.8079, Train Accuracy: 0.9573\n",
            "Epoch [600/1000], Loss: 0.7921, Train Accuracy: 0.9747\n",
            "Epoch [700/1000], Loss: 0.7836, Train Accuracy: 0.9787\n",
            "Epoch [800/1000], Loss: 0.7787, Train Accuracy: 0.9816\n",
            "Epoch [900/1000], Loss: 0.7757, Train Accuracy: 0.9816\n",
            "Epoch [1000/1000], Loss: 0.7728, Train Accuracy: 0.9845\n",
            "Test Accuracy: 0.9808102345415778\n"
          ]
        }
      ],
      "source": [
        "from sklearn.model_selection import train_test_split\n",
        "from sklearn.preprocessing import StandardScaler\n",
        "import torch\n",
        "import torch.nn as nn\n",
        "import torch.optim as optim\n",
        "from sklearn.metrics import accuracy_score\n",
        "from sklearn.preprocessing import LabelEncoder\n",
        "\n",
        "X = nasa_data2.drop(\"Asteroid Type\", axis=1)\n",
        "y = nasa_data2[\"Asteroid Type\"]\n",
        "\n",
        "\n",
        "X_train, X_test, y_train, y_test = train_test_split(X, y, test_size=0.2)\n",
        "encoder = LabelEncoder()\n",
        "y_train = encoder.fit_transform(y_train)\n",
        "y_test = encoder.transform(y_test)\n",
        "\n",
        "\n",
        "y_train_tensor = torch.tensor(y_train).long()\n",
        "y_test_tensor = torch.tensor(y_test).long()\n",
        "\n",
        "X_train_tensor = torch.from_numpy(X_train.values).float()\n",
        "\n",
        "X_test_tensor = torch.from_numpy(X_test.values).float()\n",
        "\n",
        "class AsteroidClassifier(nn.Module):\n",
        "    def __init__(self, input_dim):\n",
        "        super().__init__()\n",
        "        self.linear1 = nn.Linear(input_dim, 64)\n",
        "        self.linear2 = nn.Linear(64, 32)\n",
        "        self.linear3 = nn.Linear(32, 16)\n",
        "        self.output = nn.Linear(16, 4)\n",
        "\n",
        "    def forward(self, x):\n",
        "        x = torch.relu(self.linear1(x))\n",
        "        x = torch.relu(self.linear2(x))\n",
        "        x = torch.relu(self.linear3(x))\n",
        "        x = torch.softmax(self.output(x), dim=1)\n",
        "        return x\n",
        "\n",
        "\n",
        "model = AsteroidClassifier(X_train.shape[1])\n",
        "\n",
        "\n",
        "loss_fn = nn.CrossEntropyLoss()\n",
        "optimizer = optim.Adam(model.parameters(), lr=0.001)\n",
        "\n",
        "num_epochs = 1000\n",
        "for epoch in range(num_epochs):\n",
        "    # Forward pass\n",
        "    outputs = model(X_train_tensor)\n",
        "    loss = loss_fn(outputs, y_train_tensor)\n",
        "\n",
        "    optimizer.zero_grad()\n",
        "    loss.backward()\n",
        "    optimizer.step()\n",
        "    if (epoch+1) % 100 == 0:\n",
        "\n",
        "        with torch.no_grad():\n",
        "            train_outputs = model(X_train_tensor)\n",
        "            _, train_predicted = torch.max(train_outputs.data, 1)\n",
        "            train_accuracy = (train_predicted == y_train_tensor).sum().item() / len(y_train_tensor)\n",
        "\n",
        "        print(f'Epoch [{epoch+1}/{num_epochs}], Loss: {loss.item():.4f}, Train Accuracy: {train_accuracy:.4f}')\n",
        "\n",
        "\n",
        "with torch.no_grad():\n",
        "    outputs = model(X_test_tensor)\n",
        "    _, predicted = torch.max(outputs.data, 1)\n",
        "    accuracy = (predicted == y_test_tensor).sum().item() / len(y_test_tensor)\n",
        "    print(\"Test Accuracy:\", accuracy)"
      ]
    },
    {
      "cell_type": "code",
      "execution_count": 17,
      "id": "dc134353",
      "metadata": {
        "id": "dc134353"
      },
      "outputs": [],
      "source": [
        "# Get the state dictionary of the trained model\n",
        "model_state_dict = model.state_dict()\n",
        "\n",
        "# Save the weights to a file\n",
        "torch.save(model_state_dict, 'model_weights.pth')\n"
      ]
    },
    {
      "cell_type": "code",
      "execution_count": 18,
      "id": "366c2b02",
      "metadata": {
        "id": "366c2b02"
      },
      "outputs": [],
      "source": [
        "import torch\n",
        "\n",
        "# Assuming 'model' is your PyTorch model\n",
        "# Save the model state dictionary\n",
        "torch.save(model.state_dict(), 'model_state.pth')\n"
      ]
    },
    {
      "cell_type": "code",
      "execution_count": 19,
      "id": "93afe5a6",
      "metadata": {
        "colab": {
          "base_uri": "https://localhost:8080/"
        },
        "id": "93afe5a6",
        "outputId": "34ea7e77-03ad-454e-a414-12a3b63ebbec"
      },
      "outputs": [
        {
          "output_type": "stream",
          "name": "stdout",
          "text": [
            "Accuracy: 0.9808102345415778\n",
            "Precision: 0.9797626237105143\n",
            "Recall: 0.9808102345415778\n",
            "F1-score: 0.980285924009927\n",
            "Classification Report:\n",
            "              precision    recall  f1-score   support\n",
            "\n",
            "        Amor       0.96      0.96      0.96       201\n",
            "      Apollo       0.98      0.98      0.98       518\n",
            "    Apopeles       0.00      0.00      0.00         1\n",
            "        Aten       1.00      1.00      1.00       218\n",
            "\n",
            "    accuracy                           0.98       938\n",
            "   macro avg       0.73      0.74      0.73       938\n",
            "weighted avg       0.98      0.98      0.98       938\n",
            "\n"
          ]
        },
        {
          "output_type": "stream",
          "name": "stderr",
          "text": [
            "/usr/local/lib/python3.10/dist-packages/sklearn/metrics/_classification.py:1344: UndefinedMetricWarning: Precision is ill-defined and being set to 0.0 in labels with no predicted samples. Use `zero_division` parameter to control this behavior.\n",
            "  _warn_prf(average, modifier, msg_start, len(result))\n",
            "/usr/local/lib/python3.10/dist-packages/sklearn/metrics/_classification.py:1344: UndefinedMetricWarning: Precision and F-score are ill-defined and being set to 0.0 in labels with no predicted samples. Use `zero_division` parameter to control this behavior.\n",
            "  _warn_prf(average, modifier, msg_start, len(result))\n",
            "/usr/local/lib/python3.10/dist-packages/sklearn/metrics/_classification.py:1344: UndefinedMetricWarning: Precision and F-score are ill-defined and being set to 0.0 in labels with no predicted samples. Use `zero_division` parameter to control this behavior.\n",
            "  _warn_prf(average, modifier, msg_start, len(result))\n",
            "/usr/local/lib/python3.10/dist-packages/sklearn/metrics/_classification.py:1344: UndefinedMetricWarning: Precision and F-score are ill-defined and being set to 0.0 in labels with no predicted samples. Use `zero_division` parameter to control this behavior.\n",
            "  _warn_prf(average, modifier, msg_start, len(result))\n"
          ]
        }
      ],
      "source": [
        "from sklearn.metrics import accuracy_score, precision_score, recall_score, f1_score, classification_report\n",
        "\n",
        "# Convert predicted tensor to numpy array\n",
        "predicted_np = predicted.numpy()\n",
        "\n",
        "# Convert predicted labels back to original class labels\n",
        "predicted_labels = encoder.inverse_transform(predicted_np)\n",
        "\n",
        "# Convert true labels tensor to numpy array\n",
        "y_test_np = y_test_tensor.numpy()\n",
        "\n",
        "# Convert true labels back to original class labels\n",
        "y_test_labels = encoder.inverse_transform(y_test_np)\n",
        "\n",
        "# Calculate accuracy\n",
        "accuracy = accuracy_score(y_test_labels, predicted_labels)\n",
        "print(\"Accuracy:\", accuracy)\n",
        "\n",
        "# Calculate precision, recall, and F1-score\n",
        "precision = precision_score(y_test_labels, predicted_labels, average='weighted')\n",
        "recall = recall_score(y_test_labels, predicted_labels, average='weighted')\n",
        "f1 = f1_score(y_test_labels, predicted_labels, average='weighted')\n",
        "print(\"Precision:\", precision)\n",
        "print(\"Recall:\", recall)\n",
        "print(\"F1-score:\", f1)\n",
        "\n",
        "# Generate classification report\n",
        "class_report = classification_report(y_test_labels, predicted_labels)\n",
        "print(\"Classification Report:\")\n",
        "print(class_report)\n"
      ]
    },
    {
      "cell_type": "code",
      "execution_count": 20,
      "id": "7f213a9e",
      "metadata": {
        "colab": {
          "base_uri": "https://localhost:8080/"
        },
        "id": "7f213a9e",
        "outputId": "5fba1371-8dbb-4bd3-fea5-044ac7f5ef2f"
      },
      "outputs": [
        {
          "output_type": "stream",
          "name": "stdout",
          "text": [
            "Predicted Asteroid Types:\n",
            "['Apollo' 'Apollo' 'Apollo' ... 'Apollo' 'Amor' 'Apollo']\n"
          ]
        }
      ],
      "source": [
        "import torch\n",
        "\n",
        "\n",
        "real_data = nasa_data1[['Absolute Magnitude', 'Est Dia in KM(min)',\n",
        "                             'Relative Velocity km per sec', 'Miss Dist.(Astronomical)',\n",
        "                             'Jupiter Tisserand Invariant', 'Perihelion Distance', 'Aphelion Dist',\n",
        "                             'focal_distance']]\n",
        "\n",
        "\n",
        "real_data_tensor = torch.from_numpy(real_data.values).float()\n",
        "\n",
        "\n",
        "model.eval()\n",
        "\n",
        "\n",
        "with torch.no_grad():\n",
        "    predictions = model(real_data_tensor)\n",
        "    _, predicted_classes = torch.max(predictions, 1)\n",
        "\n",
        "\n",
        "decoded_predictions = encoder.inverse_transform(predicted_classes.numpy())\n",
        "\n",
        "\n",
        "print(\"Predicted Asteroid Types:\")\n",
        "print(decoded_predictions)\n"
      ]
    },
    {
      "cell_type": "code",
      "execution_count": 21,
      "id": "4f74f6aa",
      "metadata": {
        "id": "4f74f6aa"
      },
      "outputs": [],
      "source": [
        "import torch\n",
        "import numpy as np\n",
        "\n",
        "# Assume 'model' is your trained neural network model\n",
        "model_params = model.state_dict()\n",
        "\n",
        "# Convert parameters to numpy arrays\n",
        "numpy_params = {key: value.numpy() for key, value in model_params.items()}\n",
        "\n",
        "# Save parameters as numpy files\n",
        "for key, value in numpy_params.items():\n",
        "    np.save(f\"{key}.npy\", value)\n"
      ]
    },
    {
      "cell_type": "code",
      "execution_count": 22,
      "id": "cf848891",
      "metadata": {
        "colab": {
          "base_uri": "https://localhost:8080/"
        },
        "id": "cf848891",
        "outputId": "5fb2246e-825d-48b3-889b-79c964adc487"
      },
      "outputs": [
        {
          "output_type": "execute_result",
          "data": {
            "text/plain": [
              "<All keys matched successfully>"
            ]
          },
          "metadata": {},
          "execution_count": 22
        }
      ],
      "source": [
        "import torch\n",
        "\n",
        "# Assuming your model is of the same architecture as before\n",
        "model = AsteroidClassifier(X_train.shape[1])  # Reinitialize the model\n",
        "model.load_state_dict(torch.load('model_state.pth'))\n"
      ]
    },
    {
      "cell_type": "code",
      "execution_count": 22,
      "id": "fea5111f",
      "metadata": {
        "id": "fea5111f"
      },
      "outputs": [],
      "source": []
    }
  ],
  "metadata": {
    "kernelspec": {
      "display_name": "Python 3 (ipykernel)",
      "language": "python",
      "name": "python3"
    },
    "language_info": {
      "codemirror_mode": {
        "name": "ipython",
        "version": 3
      },
      "file_extension": ".py",
      "mimetype": "text/x-python",
      "name": "python",
      "nbconvert_exporter": "python",
      "pygments_lexer": "ipython3",
      "version": "3.9.13"
    },
    "colab": {
      "provenance": [],
      "include_colab_link": true
    }
  },
  "nbformat": 4,
  "nbformat_minor": 5
}